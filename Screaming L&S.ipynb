{
 "cells": [
  {
   "cell_type": "code",
   "execution_count": 91,
   "id": "c1b4503c",
   "metadata": {
    "scrolled": true
   },
   "outputs": [],
   "source": [
    "import yfinance as yf\n",
    "import pandas as pd\n",
    "import os\n",
    "from sklearn.linear_model import LinearRegression\n",
    "from statsmodels.tsa.stattools import adfuller\n",
    "import math\n",
    "import matplotlib.pyplot as plt\n",
    "import warnings\n",
    "from ipywidgets import IntProgress, FloatProgress\n",
    "from IPython.display import display\n",
    "\n",
    "warnings.filterwarnings('ignore')\n",
    "\n",
    "pd.set_option('display.max_rows', 150)\n"
   ]
  },
  {
   "cell_type": "code",
   "execution_count": 92,
   "metadata": {},
   "outputs": [],
   "source": [
    "# Parameters\n",
    "LST_B3_STOCKS = [\"ABEV3\",\"ALPA4\",\"ALSO3\",\"ARZZ3\",\"ASAI3\",\"AURE3\",\"AZUL4\",\"B3SA3\",\"BBAS3\",\"BBDC3\",\"BBDC4\",\"BBSE3\",\"BEEF3\",\"BPAC11\",\"BRAP4\",\"BRFS3\",\"BRKM5\",\"CASH3\",\"CBAV3\",\"CCRO3\",\"CIEL3\",\"CMIG4\",\"CMIN3\",\"COGN3\",\"CPFE3\",\"CPLE6\",\"CRFB3\",\"CSAN3\",\"CSMG3\",\"CSNA3\",\"CVCB3\",\"CYRE3\",\"DIRR3\",\"DXCO3\",\"ECOR3\",\"EGIE3\",\"ELET3\",\"ELET6\",\"EMBR3\",\"ENEV3\",\"ENGI11\",\"EQTL3\",\"EZTC3\",\"FLRY3\",\"GGBR4\",\"GMAT3\",\"GOAU4\",\"GOLL4\",\"HAPV3\",\"HYPE3\",\"IGTI11\",\"IRBR3\",\"ITSA4\",\"ITUB4\",\"JBSS3\",\"KLBN11\",\"LREN3\",\"LWSA3\",\"MDIA3\",\"MGLU3\",\"MOVI3\",\"MRFG3\",\"MRVE3\",\"MULT3\",\"NTCO3\",\"PCAR3\",\"PETR3\",\"PETR4\",\"PETZ3\",\"PRIO3\",\"PSSA3\",\"QUAL3\",\"RADL3\",\"RAIL3\",\"RAIZ4\",\"RDOR3\",\"RECV3\",\"RENT3\",\"RRRP3\",\"SANB11\",\"SBSP3\",\"SIMH3\",\"SLCE3\",\"SMTO3\",\"SOMA3\",\"STBP3\",\"SUZB3\",\"TAEE11\",\"TIMS3\",\"TOTS3\",\"TRPL4\",\"UGPA3\",\"USIM5\",\"VALE3\",\"VAMO3\",\"VBBR3\",\"VIVA3\",\"VIVT3\",\"WEGE3\",\"YDUQ3\"]\n",
    "PATH_LS_DATA = 'ls_data/'"
   ]
  },
  {
   "cell_type": "code",
   "execution_count": 93,
   "id": "f8134542",
   "metadata": {},
   "outputs": [],
   "source": [
    "def extractYahooData(lst_stock_tickers, start_date = \"2018-01-01\", end_date = None):\n",
    "    if end_date == None:\n",
    "        end_date = pd.to_datetime('today').normalize()\n",
    "    else:\n",
    "        end_date = pd.to_datetime(end_date).normalize()\n",
    "\n",
    "    lst_assets=[]\n",
    "    for ticker in lst_stock_tickers:\n",
    "        # try exceptiom: se der ruim, pula a iteração\n",
    "        df_stock = yf.download(ticker+'.SA', start = start_date, end = end_date)\n",
    "        print(ticker)\n",
    "        if len(df_stock) != 0:\n",
    "            df_stock = df_stock[[\"Adj Close\"]]\n",
    "            df_stock.loc[:, \"ticker\"] = ticker\n",
    "            lst_assets.append(df_stock)\n",
    "\n",
    "\n",
    "    return pd.concat(lst_assets)\n",
    "\n",
    "def transformYahooData(df):\n",
    "    # Reseting index to pivoting\n",
    "    df.reset_index(inplace = True)\n",
    "    \n",
    "    # Pivoting Data\n",
    "    df = df.pivot(index = \"Date\", columns = \"ticker\", values = \"Adj Close\")\n",
    "    \n",
    "    # Renaming index\n",
    "    df.index.names = ['date']\n",
    "\n",
    "    # Fill NA\n",
    "    df = df.fillna(method='ffill')\n",
    "\n",
    "    return df\n",
    "\n",
    "def loadYahooData(df, path_ls_data):\n",
    "    df.to_csv(path_ls_data+'yahoo_stock_data.csv')\n",
    "    return None\n",
    "\n",
    "def etlyahoo(lst_stock_tickers, path_ls_data, start_date = \"2018-01-01\", end_date = None):\n",
    "    df = extractYahooData(lst_stock_tickers, start_date, end_date)\n",
    "    df = transformYahooData(df)\n",
    "    loadYahooData(df, path_ls_data)\n",
    "    \n",
    "    return None\n",
    "\n",
    "def updateYahooData(path_ls_data, lst_stock_tickers):\n",
    "    df_old = pd.read_csv(path_ls_data+'yahoo_stock_data.csv')\n",
    "    max_date = pd.to_datetime(df_old['date'].max()).normalize()\n",
    "    start_date = max_date + pd.DateOffset(days=1)\n",
    "    end_date = pd.to_datetime('today').normalize()\n",
    "\n",
    "    df_new = extractYahooData(lst_stock_tickers, start_date, end_date)\n",
    "    df_new = transformYahooData(df_new)\n",
    "    df_new.reset_index(inplace = True)\n",
    "    df_new = pd.concat([df_old, df_new])\n",
    "    df_new.set_index('date', inplace = True)\n",
    "\n",
    "    return loadYahooData(df_new, path_ls_data)\n",
    "\n",
    "def get_data(path_ls_data, max_date = None):\n",
    "    if max_date == None:\n",
    "        return pd.read_csv(path_ls_data+'yahoo_stock_data.csv', index_col = 'date').reset_index()\n",
    "    else:\n",
    "        return pd.read_csv(path_ls_data+'yahoo_stock_data.csv', index_col = 'date').loc[:max_date].reset_index()\n",
    "        \n",
    "def getPairs(df):\n",
    "    assets = list(df.columns)\n",
    "    assets.remove('date')\n",
    "    \n",
    "    lst_pairs = []\n",
    "    for first in assets:\n",
    "        for second in assets:\n",
    "            if first != second:\n",
    "                lst_pairs.append(first+'/'+second)\n",
    "                \n",
    "    return lst_pairs\n",
    "\n",
    "def getPairsResiduals(lst_pairs, df_stocks, col_name_date = 'date', periods = 252):\n",
    "    df_residuals = pd.DataFrame()\n",
    "    df_residuals[col_name_date] = df_stocks[col_name_date].sort_values(ascending = False)[:periods]\n",
    "    \n",
    "    pairs_column = []\n",
    "    p_values = []\n",
    "    adf_column = []\n",
    "    beta_column = []\n",
    "    desv_column = []\n",
    "    halflife_column = []\n",
    "    \n",
    "    progress_bar = IntProgress(min=0, max=len(lst_pairs))\n",
    "    display(progress_bar)\n",
    "    for i, pair in enumerate(lst_pairs):\n",
    "        progress_bar.value = i+1\n",
    "        \n",
    "        asset1 = pair.split('/')[0]\n",
    "        asset2 = pair.split('/')[1]\n",
    "        \n",
    "        df_res = df_stocks[[col_name_date, asset1, asset2]].sort_values(by=col_name_date, ascending = False)[:periods]\n",
    "        \n",
    "        X = df_res.iloc[:, 1].values.reshape(-1, 1)\n",
    "        Y = df_res.iloc[:, 2].values.reshape(-1, 1)\n",
    "\n",
    "        linear_regressor = LinearRegression()\n",
    "        linear_regressor.fit(X, Y)\n",
    "        \n",
    "        Y_pred = linear_regressor.predict(X)\n",
    "        df_res['residual'] = Y_pred - Y\n",
    "        \n",
    "        df_residuals[pair] = df_res['residual']\n",
    "        \n",
    "        mean = df_res['residual'].mean()\n",
    "        std = df_res['residual'].std()\n",
    "        \n",
    "        adf = adfuller(df_res['residual'])\n",
    "        adf_column.append(adf[0])\n",
    "        p_values.append((1-adf[1])*100)\n",
    "        pairs_column.append(pair) \n",
    "        beta_column.append(linear_regressor.coef_[0])\n",
    "        desv_column.append(abs((df_res['residual'].iloc[0] - mean)/std))\n",
    "        halflife_column.append(math.log(2)/linear_regressor.coef_[0])\n",
    "    \n",
    "    dict_stats = {'pair':pairs_column,\n",
    "                  'adf':adf_column,\n",
    "                  'beta':beta_column,\n",
    "                  'desv':desv_column,\n",
    "                  'halflife':halflife_column,\n",
    "                  'p_value':p_values\n",
    "                 }\n",
    "    \n",
    "    df_stats = pd.DataFrame(dict_stats)\n",
    "    \n",
    "    return df_residuals, df_stats\n",
    "\n",
    "def double_cointegration(df, check = False):\n",
    "    if check == True:\n",
    "        lst_pairs = list(df.pair)\n",
    "        double_cointegration_pairs = []\n",
    "        for pair in lst_pairs:\n",
    "            inverted_pair = pair.split('/')[1]+'/'+pair.split('/')[0]\n",
    "            if inverted_pair in lst_pairs:\n",
    "                double_cointegration_pairs.append(pair)\n",
    "        return df[df[\"pair\"].isin(double_cointegration_pairs)]\n",
    "    else:\n",
    "        return df"
   ]
  },
  {
   "cell_type": "markdown",
   "id": "29cbe050",
   "metadata": {},
   "source": [
    "## ELT Process"
   ]
  },
  {
   "cell_type": "code",
   "execution_count": 94,
   "id": "0b5ce905",
   "metadata": {},
   "outputs": [
    {
     "name": "stderr",
     "output_type": "stream",
     "text": [
      "[*********************100%%**********************]  1 of 1 completed\n",
      "[*********************100%%**********************]  1 of 1 completed"
     ]
    },
    {
     "name": "stdout",
     "output_type": "stream",
     "text": [
      "ABEV3\n"
     ]
    },
    {
     "name": "stderr",
     "output_type": "stream",
     "text": [
      "\n"
     ]
    },
    {
     "name": "stdout",
     "output_type": "stream",
     "text": [
      "ALPA4\n"
     ]
    },
    {
     "name": "stderr",
     "output_type": "stream",
     "text": [
      "[*********************100%%**********************]  1 of 1 completed\n",
      "\n",
      "1 Failed download:\n",
      "['ALSO3.SA']: Exception('%ticker%: No data found, symbol may be delisted')\n",
      "[*********************100%%**********************]  1 of 1 completed"
     ]
    },
    {
     "name": "stdout",
     "output_type": "stream",
     "text": [
      "ALSO3\n"
     ]
    },
    {
     "name": "stderr",
     "output_type": "stream",
     "text": [
      "\n",
      "[*********************100%%**********************]  1 of 1 completed"
     ]
    },
    {
     "name": "stdout",
     "output_type": "stream",
     "text": [
      "ARZZ3\n"
     ]
    },
    {
     "name": "stderr",
     "output_type": "stream",
     "text": [
      "\n"
     ]
    },
    {
     "name": "stdout",
     "output_type": "stream",
     "text": [
      "ASAI3\n"
     ]
    },
    {
     "name": "stderr",
     "output_type": "stream",
     "text": [
      "[*********************100%%**********************]  1 of 1 completed\n",
      "[*********************100%%**********************]  1 of 1 completed"
     ]
    },
    {
     "name": "stdout",
     "output_type": "stream",
     "text": [
      "AURE3\n"
     ]
    },
    {
     "name": "stderr",
     "output_type": "stream",
     "text": [
      "\n"
     ]
    },
    {
     "name": "stdout",
     "output_type": "stream",
     "text": [
      "AZUL4\n"
     ]
    },
    {
     "name": "stderr",
     "output_type": "stream",
     "text": [
      "[*********************100%%**********************]  1 of 1 completed\n"
     ]
    },
    {
     "name": "stdout",
     "output_type": "stream",
     "text": [
      "B3SA3\n"
     ]
    },
    {
     "name": "stderr",
     "output_type": "stream",
     "text": [
      "[*********************100%%**********************]  1 of 1 completed\n"
     ]
    },
    {
     "name": "stdout",
     "output_type": "stream",
     "text": [
      "BBAS3\n"
     ]
    },
    {
     "name": "stderr",
     "output_type": "stream",
     "text": [
      "[*********************100%%**********************]  1 of 1 completed\n"
     ]
    },
    {
     "name": "stdout",
     "output_type": "stream",
     "text": [
      "BBDC3\n"
     ]
    },
    {
     "name": "stderr",
     "output_type": "stream",
     "text": [
      "[*********************100%%**********************]  1 of 1 completed\n"
     ]
    },
    {
     "name": "stdout",
     "output_type": "stream",
     "text": [
      "BBDC4\n"
     ]
    },
    {
     "name": "stderr",
     "output_type": "stream",
     "text": [
      "[*********************100%%**********************]  1 of 1 completed\n"
     ]
    },
    {
     "name": "stdout",
     "output_type": "stream",
     "text": [
      "BBSE3\n"
     ]
    },
    {
     "name": "stderr",
     "output_type": "stream",
     "text": [
      "[*********************100%%**********************]  1 of 1 completed\n",
      "[*********************100%%**********************]  1 of 1 completed\n"
     ]
    },
    {
     "name": "stdout",
     "output_type": "stream",
     "text": [
      "BEEF3\n",
      "BPAC11\n"
     ]
    },
    {
     "name": "stderr",
     "output_type": "stream",
     "text": [
      "[*********************100%%**********************]  1 of 1 completed\n"
     ]
    },
    {
     "name": "stdout",
     "output_type": "stream",
     "text": [
      "BRAP4\n"
     ]
    },
    {
     "name": "stderr",
     "output_type": "stream",
     "text": [
      "[*********************100%%**********************]  1 of 1 completed\n"
     ]
    },
    {
     "name": "stdout",
     "output_type": "stream",
     "text": [
      "BRFS3\n"
     ]
    },
    {
     "name": "stderr",
     "output_type": "stream",
     "text": [
      "[*********************100%%**********************]  1 of 1 completed\n",
      "[*********************100%%**********************]  1 of 1 completed"
     ]
    },
    {
     "name": "stdout",
     "output_type": "stream",
     "text": [
      "BRKM5\n"
     ]
    },
    {
     "name": "stderr",
     "output_type": "stream",
     "text": [
      "\n",
      "[*********************100%%**********************]  1 of 1 completed"
     ]
    },
    {
     "name": "stdout",
     "output_type": "stream",
     "text": [
      "CASH3\n"
     ]
    },
    {
     "name": "stderr",
     "output_type": "stream",
     "text": [
      "\n"
     ]
    },
    {
     "name": "stdout",
     "output_type": "stream",
     "text": [
      "CBAV3\n"
     ]
    },
    {
     "name": "stderr",
     "output_type": "stream",
     "text": [
      "[*********************100%%**********************]  1 of 1 completed\n",
      "[*********************100%%**********************]  1 of 1 completed\n"
     ]
    },
    {
     "name": "stdout",
     "output_type": "stream",
     "text": [
      "CCRO3\n",
      "CIEL3\n"
     ]
    },
    {
     "name": "stderr",
     "output_type": "stream",
     "text": [
      "[*********************100%%**********************]  1 of 1 completed\n"
     ]
    },
    {
     "name": "stdout",
     "output_type": "stream",
     "text": [
      "CMIG4\n"
     ]
    },
    {
     "name": "stderr",
     "output_type": "stream",
     "text": [
      "[*********************100%%**********************]  1 of 1 completed\n"
     ]
    },
    {
     "name": "stdout",
     "output_type": "stream",
     "text": [
      "CMIN3\n"
     ]
    },
    {
     "name": "stderr",
     "output_type": "stream",
     "text": [
      "[*********************100%%**********************]  1 of 1 completed\n"
     ]
    },
    {
     "name": "stdout",
     "output_type": "stream",
     "text": [
      "COGN3\n"
     ]
    },
    {
     "name": "stderr",
     "output_type": "stream",
     "text": [
      "[*********************100%%**********************]  1 of 1 completed\n",
      "[*********************100%%**********************]  1 of 1 completed"
     ]
    },
    {
     "name": "stdout",
     "output_type": "stream",
     "text": [
      "CPFE3\n",
      "CPLE6\n"
     ]
    },
    {
     "name": "stderr",
     "output_type": "stream",
     "text": [
      "\n",
      "[*********************100%%**********************]  1 of 1 completed\n"
     ]
    },
    {
     "name": "stdout",
     "output_type": "stream",
     "text": [
      "CRFB3\n"
     ]
    },
    {
     "name": "stderr",
     "output_type": "stream",
     "text": [
      "[*********************100%%**********************]  1 of 1 completed\n"
     ]
    },
    {
     "name": "stdout",
     "output_type": "stream",
     "text": [
      "CSAN3\n"
     ]
    },
    {
     "name": "stderr",
     "output_type": "stream",
     "text": [
      "[*********************100%%**********************]  1 of 1 completed\n"
     ]
    },
    {
     "name": "stdout",
     "output_type": "stream",
     "text": [
      "CSMG3\n"
     ]
    },
    {
     "name": "stderr",
     "output_type": "stream",
     "text": [
      "[*********************100%%**********************]  1 of 1 completed\n",
      "[*********************100%%**********************]  1 of 1 completed\n"
     ]
    },
    {
     "name": "stdout",
     "output_type": "stream",
     "text": [
      "CSNA3\n",
      "CVCB3\n"
     ]
    },
    {
     "name": "stderr",
     "output_type": "stream",
     "text": [
      "[*********************100%%**********************]  1 of 1 completed\n"
     ]
    },
    {
     "name": "stdout",
     "output_type": "stream",
     "text": [
      "CYRE3\n"
     ]
    },
    {
     "name": "stderr",
     "output_type": "stream",
     "text": [
      "[*********************100%%**********************]  1 of 1 completed\n"
     ]
    },
    {
     "name": "stdout",
     "output_type": "stream",
     "text": [
      "DIRR3\n"
     ]
    },
    {
     "name": "stderr",
     "output_type": "stream",
     "text": [
      "[*********************100%%**********************]  1 of 1 completed\n"
     ]
    },
    {
     "name": "stdout",
     "output_type": "stream",
     "text": [
      "DXCO3\n"
     ]
    },
    {
     "name": "stderr",
     "output_type": "stream",
     "text": [
      "[*********************100%%**********************]  1 of 1 completed\n"
     ]
    },
    {
     "name": "stdout",
     "output_type": "stream",
     "text": [
      "ECOR3\n"
     ]
    },
    {
     "name": "stderr",
     "output_type": "stream",
     "text": [
      "[*********************100%%**********************]  1 of 1 completed\n"
     ]
    },
    {
     "name": "stdout",
     "output_type": "stream",
     "text": [
      "EGIE3\n"
     ]
    },
    {
     "name": "stderr",
     "output_type": "stream",
     "text": [
      "[*********************100%%**********************]  1 of 1 completed\n"
     ]
    },
    {
     "name": "stdout",
     "output_type": "stream",
     "text": [
      "ELET3\n"
     ]
    },
    {
     "name": "stderr",
     "output_type": "stream",
     "text": [
      "[*********************100%%**********************]  1 of 1 completed\n"
     ]
    },
    {
     "name": "stdout",
     "output_type": "stream",
     "text": [
      "ELET6\n"
     ]
    },
    {
     "name": "stderr",
     "output_type": "stream",
     "text": [
      "[*********************100%%**********************]  1 of 1 completed\n",
      "[*********************100%%**********************]  1 of 1 completed\n"
     ]
    },
    {
     "name": "stdout",
     "output_type": "stream",
     "text": [
      "EMBR3\n",
      "ENEV3\n"
     ]
    },
    {
     "name": "stderr",
     "output_type": "stream",
     "text": [
      "[*********************100%%**********************]  1 of 1 completed\n"
     ]
    },
    {
     "name": "stdout",
     "output_type": "stream",
     "text": [
      "ENGI11\n"
     ]
    },
    {
     "name": "stderr",
     "output_type": "stream",
     "text": [
      "[*********************100%%**********************]  1 of 1 completed\n"
     ]
    },
    {
     "name": "stdout",
     "output_type": "stream",
     "text": [
      "EQTL3\n"
     ]
    },
    {
     "name": "stderr",
     "output_type": "stream",
     "text": [
      "[*********************100%%**********************]  1 of 1 completed\n"
     ]
    },
    {
     "name": "stdout",
     "output_type": "stream",
     "text": [
      "EZTC3\n"
     ]
    },
    {
     "name": "stderr",
     "output_type": "stream",
     "text": [
      "[*********************100%%**********************]  1 of 1 completed\n"
     ]
    },
    {
     "name": "stdout",
     "output_type": "stream",
     "text": [
      "FLRY3\n"
     ]
    },
    {
     "name": "stderr",
     "output_type": "stream",
     "text": [
      "[*********************100%%**********************]  1 of 1 completed\n",
      "[*********************100%%**********************]  1 of 1 completed\n"
     ]
    },
    {
     "name": "stdout",
     "output_type": "stream",
     "text": [
      "GGBR4\n",
      "GMAT3\n"
     ]
    },
    {
     "name": "stderr",
     "output_type": "stream",
     "text": [
      "[*********************100%%**********************]  1 of 1 completed\n"
     ]
    },
    {
     "name": "stdout",
     "output_type": "stream",
     "text": [
      "GOAU4\n"
     ]
    },
    {
     "name": "stderr",
     "output_type": "stream",
     "text": [
      "[*********************100%%**********************]  1 of 1 completed\n",
      "[*********************100%%**********************]  1 of 1 completed"
     ]
    },
    {
     "name": "stdout",
     "output_type": "stream",
     "text": [
      "GOLL4\n"
     ]
    },
    {
     "name": "stderr",
     "output_type": "stream",
     "text": [
      "\n"
     ]
    },
    {
     "name": "stdout",
     "output_type": "stream",
     "text": [
      "HAPV3\n"
     ]
    },
    {
     "name": "stderr",
     "output_type": "stream",
     "text": [
      "[*********************100%%**********************]  1 of 1 completed\n",
      "[*********************100%%**********************]  1 of 1 completed"
     ]
    },
    {
     "name": "stdout",
     "output_type": "stream",
     "text": [
      "HYPE3\n"
     ]
    },
    {
     "name": "stderr",
     "output_type": "stream",
     "text": [
      "\n"
     ]
    },
    {
     "name": "stdout",
     "output_type": "stream",
     "text": [
      "IGTI11\n"
     ]
    },
    {
     "name": "stderr",
     "output_type": "stream",
     "text": [
      "[*********************100%%**********************]  1 of 1 completed\n"
     ]
    },
    {
     "name": "stdout",
     "output_type": "stream",
     "text": [
      "IRBR3\n"
     ]
    },
    {
     "name": "stderr",
     "output_type": "stream",
     "text": [
      "[*********************100%%**********************]  1 of 1 completed\n"
     ]
    },
    {
     "name": "stdout",
     "output_type": "stream",
     "text": [
      "ITSA4\n"
     ]
    },
    {
     "name": "stderr",
     "output_type": "stream",
     "text": [
      "[*********************100%%**********************]  1 of 1 completed\n"
     ]
    },
    {
     "name": "stdout",
     "output_type": "stream",
     "text": [
      "ITUB4\n"
     ]
    },
    {
     "name": "stderr",
     "output_type": "stream",
     "text": [
      "[*********************100%%**********************]  1 of 1 completed\n"
     ]
    },
    {
     "name": "stdout",
     "output_type": "stream",
     "text": [
      "JBSS3\n"
     ]
    },
    {
     "name": "stderr",
     "output_type": "stream",
     "text": [
      "[*********************100%%**********************]  1 of 1 completed\n"
     ]
    },
    {
     "name": "stdout",
     "output_type": "stream",
     "text": [
      "KLBN11\n"
     ]
    },
    {
     "name": "stderr",
     "output_type": "stream",
     "text": [
      "[*********************100%%**********************]  1 of 1 completed\n"
     ]
    },
    {
     "name": "stdout",
     "output_type": "stream",
     "text": [
      "LREN3\n"
     ]
    },
    {
     "name": "stderr",
     "output_type": "stream",
     "text": [
      "[*********************100%%**********************]  1 of 1 completed\n"
     ]
    },
    {
     "name": "stdout",
     "output_type": "stream",
     "text": [
      "LWSA3\n"
     ]
    },
    {
     "name": "stderr",
     "output_type": "stream",
     "text": [
      "[*********************100%%**********************]  1 of 1 completed\n"
     ]
    },
    {
     "name": "stdout",
     "output_type": "stream",
     "text": [
      "MDIA3\n"
     ]
    },
    {
     "name": "stderr",
     "output_type": "stream",
     "text": [
      "[*********************100%%**********************]  1 of 1 completed\n",
      "[*********************100%%**********************]  1 of 1 completed"
     ]
    },
    {
     "name": "stdout",
     "output_type": "stream",
     "text": [
      "MGLU3\n"
     ]
    },
    {
     "name": "stderr",
     "output_type": "stream",
     "text": [
      "\n"
     ]
    },
    {
     "name": "stdout",
     "output_type": "stream",
     "text": [
      "MOVI3\n"
     ]
    },
    {
     "name": "stderr",
     "output_type": "stream",
     "text": [
      "[*********************100%%**********************]  1 of 1 completed\n",
      "[*********************100%%**********************]  1 of 1 completed"
     ]
    },
    {
     "name": "stdout",
     "output_type": "stream",
     "text": [
      "MRFG3\n"
     ]
    },
    {
     "name": "stderr",
     "output_type": "stream",
     "text": [
      "\n"
     ]
    },
    {
     "name": "stdout",
     "output_type": "stream",
     "text": [
      "MRVE3\n"
     ]
    },
    {
     "name": "stderr",
     "output_type": "stream",
     "text": [
      "[*********************100%%**********************]  1 of 1 completed\n",
      "[*********************100%%**********************]  1 of 1 completed"
     ]
    },
    {
     "name": "stdout",
     "output_type": "stream",
     "text": [
      "MULT3\n"
     ]
    },
    {
     "name": "stderr",
     "output_type": "stream",
     "text": [
      "\n"
     ]
    },
    {
     "name": "stdout",
     "output_type": "stream",
     "text": [
      "NTCO3\n"
     ]
    },
    {
     "name": "stderr",
     "output_type": "stream",
     "text": [
      "[*********************100%%**********************]  1 of 1 completed\n"
     ]
    },
    {
     "name": "stdout",
     "output_type": "stream",
     "text": [
      "PCAR3\n"
     ]
    },
    {
     "name": "stderr",
     "output_type": "stream",
     "text": [
      "[*********************100%%**********************]  1 of 1 completed\n"
     ]
    },
    {
     "name": "stdout",
     "output_type": "stream",
     "text": [
      "PETR3\n"
     ]
    },
    {
     "name": "stderr",
     "output_type": "stream",
     "text": [
      "[*********************100%%**********************]  1 of 1 completed\n"
     ]
    },
    {
     "name": "stdout",
     "output_type": "stream",
     "text": [
      "PETR4\n"
     ]
    },
    {
     "name": "stderr",
     "output_type": "stream",
     "text": [
      "[*********************100%%**********************]  1 of 1 completed\n",
      "[*********************100%%**********************]  1 of 1 completed"
     ]
    },
    {
     "name": "stdout",
     "output_type": "stream",
     "text": [
      "PETZ3\n"
     ]
    },
    {
     "name": "stderr",
     "output_type": "stream",
     "text": [
      "\n"
     ]
    },
    {
     "name": "stdout",
     "output_type": "stream",
     "text": [
      "PRIO3\n"
     ]
    },
    {
     "name": "stderr",
     "output_type": "stream",
     "text": [
      "[*********************100%%**********************]  1 of 1 completed\n"
     ]
    },
    {
     "name": "stdout",
     "output_type": "stream",
     "text": [
      "PSSA3\n"
     ]
    },
    {
     "name": "stderr",
     "output_type": "stream",
     "text": [
      "[*********************100%%**********************]  1 of 1 completed\n"
     ]
    },
    {
     "name": "stdout",
     "output_type": "stream",
     "text": [
      "QUAL3\n"
     ]
    },
    {
     "name": "stderr",
     "output_type": "stream",
     "text": [
      "[*********************100%%**********************]  1 of 1 completed\n",
      "[*********************100%%**********************]  1 of 1 completed"
     ]
    },
    {
     "name": "stdout",
     "output_type": "stream",
     "text": [
      "RADL3\n"
     ]
    },
    {
     "name": "stderr",
     "output_type": "stream",
     "text": [
      "\n",
      "[*********************100%%**********************]  1 of 1 completed"
     ]
    },
    {
     "name": "stdout",
     "output_type": "stream",
     "text": [
      "RAIL3\n"
     ]
    },
    {
     "name": "stderr",
     "output_type": "stream",
     "text": [
      "\n",
      "[*********************100%%**********************]  1 of 1 completed"
     ]
    },
    {
     "name": "stdout",
     "output_type": "stream",
     "text": [
      "RAIZ4\n"
     ]
    },
    {
     "name": "stderr",
     "output_type": "stream",
     "text": [
      "\n"
     ]
    },
    {
     "name": "stdout",
     "output_type": "stream",
     "text": [
      "RDOR3\n"
     ]
    },
    {
     "name": "stderr",
     "output_type": "stream",
     "text": [
      "[*********************100%%**********************]  1 of 1 completed\n"
     ]
    },
    {
     "name": "stdout",
     "output_type": "stream",
     "text": [
      "RECV3\n"
     ]
    },
    {
     "name": "stderr",
     "output_type": "stream",
     "text": [
      "[*********************100%%**********************]  1 of 1 completed\n",
      "[*********************100%%**********************]  1 of 1 completed"
     ]
    },
    {
     "name": "stdout",
     "output_type": "stream",
     "text": [
      "RENT3\n"
     ]
    },
    {
     "name": "stderr",
     "output_type": "stream",
     "text": [
      "\n"
     ]
    },
    {
     "name": "stdout",
     "output_type": "stream",
     "text": [
      "RRRP3\n"
     ]
    },
    {
     "name": "stderr",
     "output_type": "stream",
     "text": [
      "[*********************100%%**********************]  1 of 1 completed\n"
     ]
    },
    {
     "name": "stdout",
     "output_type": "stream",
     "text": [
      "SANB11\n"
     ]
    },
    {
     "name": "stderr",
     "output_type": "stream",
     "text": [
      "[*********************100%%**********************]  1 of 1 completed\n"
     ]
    },
    {
     "name": "stdout",
     "output_type": "stream",
     "text": [
      "SBSP3\n"
     ]
    },
    {
     "name": "stderr",
     "output_type": "stream",
     "text": [
      "[*********************100%%**********************]  1 of 1 completed\n"
     ]
    },
    {
     "name": "stdout",
     "output_type": "stream",
     "text": [
      "SIMH3\n"
     ]
    },
    {
     "name": "stderr",
     "output_type": "stream",
     "text": [
      "[*********************100%%**********************]  1 of 1 completed\n"
     ]
    },
    {
     "name": "stdout",
     "output_type": "stream",
     "text": [
      "SLCE3\n"
     ]
    },
    {
     "name": "stderr",
     "output_type": "stream",
     "text": [
      "[*********************100%%**********************]  1 of 1 completed\n"
     ]
    },
    {
     "name": "stdout",
     "output_type": "stream",
     "text": [
      "SMTO3\n"
     ]
    },
    {
     "name": "stderr",
     "output_type": "stream",
     "text": [
      "[*********************100%%**********************]  1 of 1 completed\n"
     ]
    },
    {
     "name": "stdout",
     "output_type": "stream",
     "text": [
      "SOMA3\n"
     ]
    },
    {
     "name": "stderr",
     "output_type": "stream",
     "text": [
      "[*********************100%%**********************]  1 of 1 completed\n"
     ]
    },
    {
     "name": "stdout",
     "output_type": "stream",
     "text": [
      "STBP3\n"
     ]
    },
    {
     "name": "stderr",
     "output_type": "stream",
     "text": [
      "[*********************100%%**********************]  1 of 1 completed\n"
     ]
    },
    {
     "name": "stdout",
     "output_type": "stream",
     "text": [
      "SUZB3\n"
     ]
    },
    {
     "name": "stderr",
     "output_type": "stream",
     "text": [
      "[*********************100%%**********************]  1 of 1 completed\n",
      "[*********************100%%**********************]  1 of 1 completed"
     ]
    },
    {
     "name": "stdout",
     "output_type": "stream",
     "text": [
      "TAEE11\n"
     ]
    },
    {
     "name": "stderr",
     "output_type": "stream",
     "text": [
      "\n"
     ]
    },
    {
     "name": "stdout",
     "output_type": "stream",
     "text": [
      "TIMS3\n"
     ]
    },
    {
     "name": "stderr",
     "output_type": "stream",
     "text": [
      "[*********************100%%**********************]  1 of 1 completed\n"
     ]
    },
    {
     "name": "stdout",
     "output_type": "stream",
     "text": [
      "TOTS3\n"
     ]
    },
    {
     "name": "stderr",
     "output_type": "stream",
     "text": [
      "[*********************100%%**********************]  1 of 1 completed\n"
     ]
    },
    {
     "name": "stdout",
     "output_type": "stream",
     "text": [
      "TRPL4\n"
     ]
    },
    {
     "name": "stderr",
     "output_type": "stream",
     "text": [
      "[*********************100%%**********************]  1 of 1 completed\n"
     ]
    },
    {
     "name": "stdout",
     "output_type": "stream",
     "text": [
      "UGPA3\n"
     ]
    },
    {
     "name": "stderr",
     "output_type": "stream",
     "text": [
      "[*********************100%%**********************]  1 of 1 completed\n",
      "[*********************100%%**********************]  1 of 1 completed"
     ]
    },
    {
     "name": "stdout",
     "output_type": "stream",
     "text": [
      "USIM5\n"
     ]
    },
    {
     "name": "stderr",
     "output_type": "stream",
     "text": [
      "\n",
      "[*********************100%%**********************]  1 of 1 completed\n"
     ]
    },
    {
     "name": "stdout",
     "output_type": "stream",
     "text": [
      "VALE3\n",
      "VAMO3\n"
     ]
    },
    {
     "name": "stderr",
     "output_type": "stream",
     "text": [
      "[*********************100%%**********************]  1 of 1 completed\n",
      "[*********************100%%**********************]  1 of 1 completed\n"
     ]
    },
    {
     "name": "stdout",
     "output_type": "stream",
     "text": [
      "VBBR3\n",
      "VIVA3\n"
     ]
    },
    {
     "name": "stderr",
     "output_type": "stream",
     "text": [
      "[*********************100%%**********************]  1 of 1 completed\n",
      "[*********************100%%**********************]  1 of 1 completed"
     ]
    },
    {
     "name": "stdout",
     "output_type": "stream",
     "text": [
      "VIVT3\n"
     ]
    },
    {
     "name": "stderr",
     "output_type": "stream",
     "text": [
      "\n",
      "[*********************100%%**********************]  1 of 1 completed"
     ]
    },
    {
     "name": "stdout",
     "output_type": "stream",
     "text": [
      "WEGE3\n",
      "YDUQ3\n"
     ]
    },
    {
     "name": "stderr",
     "output_type": "stream",
     "text": [
      "\n"
     ]
    }
   ],
   "source": [
    "#etlyahoo(LST_B3_STOCKS, PATH_LS_DATA)\n",
    "updateYahooData(PATH_LS_DATA, LST_B3_STOCKS)"
   ]
  },
  {
   "cell_type": "markdown",
   "id": "c249ef75",
   "metadata": {},
   "source": [
    "## L&S Screaning"
   ]
  },
  {
   "cell_type": "markdown",
   "id": "e75d214c",
   "metadata": {},
   "source": [
    "- 160 períodos: 1/3 do Capital para cada trade.\n",
    "- 200 períodos: 1/2 do Capital para cada trade.\n",
    "- 252 períodos: 100% do Capital para cada trade."
   ]
  },
  {
   "cell_type": "code",
   "execution_count": 118,
   "id": "19784281",
   "metadata": {},
   "outputs": [
    {
     "name": "stdout",
     "output_type": "stream",
     "text": [
      "Calculando estatísticas para período de 160 dias...\n"
     ]
    },
    {
     "data": {
      "application/vnd.jupyter.widget-view+json": {
       "model_id": "89f688be717e416c8f61428a9ac38b06",
       "version_major": 2,
       "version_minor": 0
      },
      "text/plain": [
       "IntProgress(value=0, max=9702)"
      ]
     },
     "metadata": {},
     "output_type": "display_data"
    },
    {
     "name": "stdout",
     "output_type": "stream",
     "text": [
      "Calculando estatísticas para período de 200 dias...\n"
     ]
    },
    {
     "data": {
      "application/vnd.jupyter.widget-view+json": {
       "model_id": "b1bc907c2afd4f34a9e74360c4331339",
       "version_major": 2,
       "version_minor": 0
      },
      "text/plain": [
       "IntProgress(value=0, max=9702)"
      ]
     },
     "metadata": {},
     "output_type": "display_data"
    },
    {
     "name": "stdout",
     "output_type": "stream",
     "text": [
      "Calculando estatísticas para período de 252 dias...\n"
     ]
    },
    {
     "data": {
      "application/vnd.jupyter.widget-view+json": {
       "model_id": "05a012184bfd4ed6be94539be5cb2b57",
       "version_major": 2,
       "version_minor": 0
      },
      "text/plain": [
       "IntProgress(value=0, max=9702)"
      ]
     },
     "metadata": {},
     "output_type": "display_data"
    }
   ],
   "source": [
    "# Get stock data\n",
    "df_stocks = get_data(PATH_LS_DATA, max_date = None)\n",
    "\n",
    "# Get pairs\n",
    "list_pairs = getPairs(df_stocks)\n",
    "\n",
    "# Calculate Residuals between pairs\n",
    "prds = [160, 200, 252]\n",
    "lst_df_pairs_res = []\n",
    "lst_df_pairs_stats = []\n",
    "for periodo in prds:\n",
    "    print(f\"Calculando estatísticas para período de {periodo} dias...\")\n",
    "    df_pairs_res, df_pairs_stats = getPairsResiduals(list_pairs, df_stocks, col_name_date = 'date', periods = periodo)\n",
    "    lst_df_pairs_res.append(df_pairs_res)\n",
    "    lst_df_pairs_stats.append(df_pairs_stats)\n",
    "\n",
    "#df_pairs_res, df_pairs_stats = getPairsResiduals(list_pairs, df_stocks, col_name_date = 'date', periods = prds[2])"
   ]
  },
  {
   "cell_type": "markdown",
   "id": "b4a4c710",
   "metadata": {},
   "source": [
    "- 1% -4,32%\n",
    "- 5% -3,78%\n",
    "- 10% -3,50%\n",
    "\n",
    "Para cada 1 real do ativo 1, operar beta*reais do ativo 2"
   ]
  },
  {
   "cell_type": "code",
   "execution_count": 125,
   "id": "cefc5ece",
   "metadata": {},
   "outputs": [
    {
     "data": {
      "text/html": [
       "<div>\n",
       "<style scoped>\n",
       "    .dataframe tbody tr th:only-of-type {\n",
       "        vertical-align: middle;\n",
       "    }\n",
       "\n",
       "    .dataframe tbody tr th {\n",
       "        vertical-align: top;\n",
       "    }\n",
       "\n",
       "    .dataframe thead th {\n",
       "        text-align: right;\n",
       "    }\n",
       "</style>\n",
       "<table border=\"1\" class=\"dataframe\">\n",
       "  <thead>\n",
       "    <tr style=\"text-align: right;\">\n",
       "      <th></th>\n",
       "      <th>pair</th>\n",
       "      <th>adf</th>\n",
       "      <th>beta</th>\n",
       "      <th>desv</th>\n",
       "      <th>halflife</th>\n",
       "      <th>p_value</th>\n",
       "    </tr>\n",
       "  </thead>\n",
       "  <tbody>\n",
       "    <tr>\n",
       "      <th>0</th>\n",
       "      <td>BBAS3/SBSP3</td>\n",
       "      <td>-4.765306</td>\n",
       "      <td>[1.8641742206951888]</td>\n",
       "      <td>2.397268</td>\n",
       "      <td>[0.371825322367915]</td>\n",
       "      <td>99.993666</td>\n",
       "    </tr>\n",
       "    <tr>\n",
       "      <th>1</th>\n",
       "      <td>SBSP3/BBAS3</td>\n",
       "      <td>-4.747010</td>\n",
       "      <td>[0.5080154206808566]</td>\n",
       "      <td>2.131798</td>\n",
       "      <td>[1.3644215359269407]</td>\n",
       "      <td>99.993139</td>\n",
       "    </tr>\n",
       "  </tbody>\n",
       "</table>\n",
       "</div>"
      ],
      "text/plain": [
       "          pair       adf                  beta      desv  \\\n",
       "0  BBAS3/SBSP3 -4.765306  [1.8641742206951888]  2.397268   \n",
       "1  SBSP3/BBAS3 -4.747010  [0.5080154206808566]  2.131798   \n",
       "\n",
       "               halflife    p_value  \n",
       "0   [0.371825322367915]  99.993666  \n",
       "1  [1.3644215359269407]  99.993139  "
      ]
     },
     "execution_count": 125,
     "metadata": {},
     "output_type": "execute_result"
    }
   ],
   "source": [
    "prd_index = 0\n",
    "df_pairs_res = lst_df_pairs_res[prd_index]\n",
    "df_pairs_stats = lst_df_pairs_stats[prd_index]\n",
    "\n",
    "df_screaning = df_pairs_stats[\n",
    "    (df_pairs_stats['adf'] <= -4.32) & \n",
    "    (df_pairs_stats['desv'] >= 1.85) & \n",
    "    (df_pairs_stats['desv'] < 3) & \n",
    "    (df_pairs_stats['beta'] >= 0.5) & \n",
    "    (df_pairs_stats['beta'] < 2) & \n",
    "    (df_pairs_stats['halflife'] <= 999)].sort_values(by='desv', ascending=False)\n",
    "\n",
    "df_screaning = double_cointegration(df_screaning, check = True)\n",
    "\n",
    "df_screaning.reset_index(drop=True)"
   ]
  },
  {
   "cell_type": "code",
   "execution_count": null,
   "id": "5a9b2f02",
   "metadata": {},
   "outputs": [
    {
     "name": "stdout",
     "output_type": "stream",
     "text": [
      "BBAS3/SBSP3\n",
      "Beta:  1.8641742206951888\n",
      "Desv:  2.3972682860356986\n",
      "Halflife:  0.371825322367915\n"
     ]
    },
    {
     "data": {
      "image/png": "[encoded data removed]",
      "text/plain": [
       "<Figure size 640x480 with 1 Axes>"
      ]
     },
     "metadata": {},
     "output_type": "display_data"
    },
    {
     "data": {
      "image/png": "[encoded data removed]",
      "text/plain": [
       "<Figure size 640x480 with 1 Axes>"
      ]
     },
     "metadata": {},
     "output_type": "display_data"
    },
    {
     "name": "stdout",
     "output_type": "stream",
     "text": [
      "SBSP3/BBAS3\n",
      "Beta:  0.5080154206808566\n",
      "Desv:  2.131797500824124\n",
      "Halflife:  1.3644215359269407\n"
     ]
    },
    {
     "data": {
      "image/png": "[encoded data removed]",
      "text/plain": [
       "<Figure size 640x480 with 1 Axes>"
      ]
     },
     "metadata": {},
     "output_type": "display_data"
    },
    {
     "data": {
      "image/png": "[encoded data removed]",
      "text/plain": [
       "<Figure size 640x480 with 1 Axes>"
      ]
     },
     "metadata": {},
     "output_type": "display_data"
    }
   ],
   "source": [
    "for n_pair in range(len(df_screaning)):\n",
    "\n",
    "    print(df_screaning.iloc[n_pair,0])\n",
    "    print(\"Beta: \", df_screaning.iloc[n_pair,2][0])\n",
    "    print(\"Desv: \", df_screaning.iloc[n_pair,3])\n",
    "    print(\"Halflife: \", df_screaning.iloc[n_pair,4][0])\n",
    "\n",
    "    # Residual\n",
    "    pair1 = df_screaning.iloc[n_pair,0].split('/')[0]\n",
    "    pair2 = df_screaning.iloc[n_pair,0].split('/')[1]\n",
    "    plt.plot(df_pairs_res[pair1+'/'+pair2])\n",
    "    plt.show()\n",
    "\n",
    "    # Regression\n",
    "    df_aux = df_stocks[[pair1, pair2]]\n",
    "    df_aux = df_aux.iloc[-253:, :]\n",
    "    X = df_aux.iloc[:, 0].values.reshape(-1, 1)\n",
    "    Y = df_aux.iloc[:, 1].values.reshape(-1, 1)\n",
    "    linear_regressor = LinearRegression()\n",
    "    linear_regressor.fit(X, Y)\n",
    "    \n",
    "    Y_pred = linear_regressor.predict(X)\n",
    "\n",
    "    plt.scatter(X, Y)\n",
    "    plt.plot(X, Y_pred, color='red')\n",
    "    plt.show()"
   ]
  },
  {
   "cell_type": "code",
   "execution_count": null,
   "id": "a45b426a",
   "metadata": {},
   "outputs": [],
   "source": []
  }
 ],
 "metadata": {
  "kernelspec": {
   "display_name": "Python 3 (ipykernel)",
   "language": "python",
   "name": "python3"
  },
  "language_info": {
   "codemirror_mode": {
    "name": "ipython",
    "version": 3
   },
   "file_extension": ".py",
   "mimetype": "text/x-python",
   "name": "python",
   "nbconvert_exporter": "python",
   "pygments_lexer": "ipython3",
   "version": "3.12.2"
  }
 },
 "nbformat": 4,
 "nbformat_minor": 5
}

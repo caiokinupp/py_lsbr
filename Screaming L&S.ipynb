{
 "cells": [
  {
   "cell_type": "code",
   "execution_count": 1,
   "id": "c1b4503c",
   "metadata": {
    "scrolled": true
   },
   "outputs": [],
   "source": [
    "# Python\n",
    "# Third\n",
    "# Property\n",
    "from ls_lib import *\n",
    "from etl_b3_stocks import create_long_short_dataset\n",
    "pd.set_option('display.max_rows', 150)\n"
   ]
  },
  {
   "cell_type": "markdown",
   "id": "d6c38cb5",
   "metadata": {},
   "source": [
    "### TODO\n",
    "- Type hint\n",
    "- Field\n",
    "- Optional\n",
    "- Document functions\n",
    "- Pytest/Unit Tests (Udacity content)\n",
    "- log (Udacity content)\n",
    "- Web-App (Udacity 6.17 em diante[Plotly em diante])"
   ]
  },
  {
   "cell_type": "code",
   "execution_count": 29,
   "id": "3afca0bb",
   "metadata": {},
   "outputs": [],
   "source": [
    "create_long_short_dataset(start_date=\"2018-01-01\")"
   ]
  },
  {
   "cell_type": "markdown",
   "id": "c249ef75",
   "metadata": {},
   "source": [
    "## L&S Screaning"
   ]
  },
  {
   "cell_type": "markdown",
   "id": "e75d214c",
   "metadata": {},
   "source": [
    "Gerênciamento de risco\n",
    "- 160 períodos: 30% do Capital para cada trade.\n",
    "- 200 períodos: 50% do Capital para cada trade.\n",
    "- 252 períodos: 100% do Capital para cada trade.\n",
    "\n",
    "\n",
    "Teste ADF\n",
    "- 1% -4,32%\n",
    "- 5% -3,78%\n",
    "- 10% -3,50%\n",
    "\n",
    "Interpretação do Beta\n",
    "- Para cada 1 real do ativo 1, operar beta*reais do ativo 2\n",
    "\n",
    "Entre A/B e B/A, escolher o par com menor ADF"
   ]
  },
  {
   "cell_type": "code",
   "execution_count": 18,
   "id": "aaca6e5e",
   "metadata": {},
   "outputs": [],
   "source": [
    "df_stocks = load_long_short_dataset(max_date = \"2024-08-26\")"
   ]
  },
  {
   "cell_type": "code",
   "execution_count": 19,
   "id": "ef6413e2",
   "metadata": {},
   "outputs": [],
   "source": [
    "# Filtro dataset\n",
    "\n",
    "lst_pairs = getPairs(df_stocks)\n",
    "periods = 200\n",
    "date_col = 'date'\n",
    "\n",
    "args = [{\"pair\":pair, \"dataset\": df_stocks, \"periods\": periods, \"date_col\": date_col} for pair in lst_pairs]\n",
    "\n",
    "df_stats = getPairsStats(args, workers = 8)\n",
    "df_stats[\"periodo\"] = periods"
   ]
  },
  {
   "cell_type": "code",
   "execution_count": 20,
   "id": "6cf0c5d6",
   "metadata": {},
   "outputs": [
    {
     "data": {
      "text/html": [
       "<div>\n",
       "<style scoped>\n",
       "    .dataframe tbody tr th:only-of-type {\n",
       "        vertical-align: middle;\n",
       "    }\n",
       "\n",
       "    .dataframe tbody tr th {\n",
       "        vertical-align: top;\n",
       "    }\n",
       "\n",
       "    .dataframe thead th {\n",
       "        text-align: right;\n",
       "    }\n",
       "</style>\n",
       "<table border=\"1\" class=\"dataframe\">\n",
       "  <thead>\n",
       "    <tr style=\"text-align: right;\">\n",
       "      <th></th>\n",
       "      <th>pair</th>\n",
       "      <th>adf</th>\n",
       "      <th>beta</th>\n",
       "      <th>desv</th>\n",
       "      <th>op_type</th>\n",
       "      <th>halflife</th>\n",
       "      <th>p_value</th>\n",
       "      <th>periodo</th>\n",
       "    </tr>\n",
       "  </thead>\n",
       "  <tbody>\n",
       "  </tbody>\n",
       "</table>\n",
       "</div>"
      ],
      "text/plain": [
       "Empty DataFrame\n",
       "Columns: [pair, adf, beta, desv, op_type, halflife, p_value, periodo]\n",
       "Index: []"
      ]
     },
     "execution_count": 20,
     "metadata": {},
     "output_type": "execute_result"
    }
   ],
   "source": [
    "# Screaning\n",
    "df_screaning = df_stats[\n",
    "    (df_stats['adf'] <= -4.32) & \n",
    "    (abs(df_stats['desv']) >= 1.90) & \n",
    "    (abs(df_stats['desv']) < 2.2) & \n",
    "    (df_stats['beta'] >= 0.75) & \n",
    "    (df_stats['beta'] < 1.25) & \n",
    "    (df_stats['halflife'] <= 11)]\n",
    "\n",
    "df_screaning = double_cointegration(df_screaning, check = True).sort_values(by='adf')\n",
    "\n",
    "df_screaning.reset_index(drop=True)"
   ]
  },
  {
   "cell_type": "code",
   "execution_count": 21,
   "id": "5a9b2f02",
   "metadata": {},
   "outputs": [],
   "source": [
    "for n_pair in range(len(df_screaning)):\n",
    "    print(n_pair)\n",
    "    print(df_screaning.iloc[n_pair,0])\n",
    "    print(\"Beta: \", df_screaning.iloc[n_pair,2])\n",
    "    print(\"Desv: \", df_screaning.iloc[n_pair,3])\n",
    "    print(\"Halflife: \", df_screaning.iloc[n_pair,4])\n",
    "\n",
    "    # Residual\n",
    "    asset1 = df_screaning.iloc[n_pair,0].split('/')[0]\n",
    "    asset2 = df_screaning.iloc[n_pair,0].split('/')[1]\n",
    "    df_res = df_stocks[[date_col, asset1, asset2]].sort_values(by=date_col, ascending=False)[:periods]\n",
    "    X = df_res.iloc[:, 1].values.reshape(-1, 1)\n",
    "    Y = df_res.iloc[:, 2].values.reshape(-1, 1)\n",
    "    linear_regressor = LinearRegression()\n",
    "    linear_regressor.fit(X, Y)\n",
    "\n",
    "    Y_pred = linear_regressor.predict(X)\n",
    "    df_res[asset1+'/'+asset2] = Y - Y_pred  # Residuals\n",
    "\n",
    "    df_res = df_res[[date_col, asset1+'/'+asset2]]\n",
    "    \n",
    "    df_res_aux = normalize_column(df_res, asset1+'/'+asset2)\n",
    "\n",
    "    plt.plot(df_res_aux)\n",
    "    plt.show()\n",
    "\n",
    "    # Regression\n",
    "    plt.scatter(X, Y)\n",
    "    plt.plot(X, Y_pred, color='red')\n",
    "    plt.show()"
   ]
  },
  {
   "cell_type": "code",
   "execution_count": null,
   "id": "a45b426a",
   "metadata": {},
   "outputs": [],
   "source": []
  }
 ],
 "metadata": {
  "kernelspec": {
   "display_name": "Python 3 (ipykernel)",
   "language": "python",
   "name": "python3"
  },
  "language_info": {
   "codemirror_mode": {
    "name": "ipython",
    "version": 3
   },
   "file_extension": ".py",
   "mimetype": "text/x-python",
   "name": "python",
   "nbconvert_exporter": "python",
   "pygments_lexer": "ipython3",
   "version": "3.11.9"
  }
 },
 "nbformat": 4,
 "nbformat_minor": 5
}
